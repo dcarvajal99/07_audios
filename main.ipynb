{
 "cells": [
  {
   "cell_type": "code",
   "execution_count": 2,
   "metadata": {},
   "outputs": [
    {
     "name": "stdout",
     "output_type": "stream",
     "text": [
      "C:/07_audios/Excels/rut.xlsx\n",
      "ruts [5799117, 5414675, 6061437, 11567626, 16050536, 17314065, 19075857]\n",
      "fechas ['2024-04-05', '2024-04-15', '2024-04-15', '2024-04-23', '2024-04-26', '2024-04-08', '2024-04-22']\n"
     ]
    },
    {
     "data": {
      "text/plain": [
       "([5799117, 5414675, 6061437, 11567626, 16050536, 17314065, 19075857],\n",
       " ['2024-04-05',\n",
       "  '2024-04-15',\n",
       "  '2024-04-15',\n",
       "  '2024-04-23',\n",
       "  '2024-04-26',\n",
       "  '2024-04-08',\n",
       "  '2024-04-22'])"
      ]
     },
     "execution_count": 2,
     "metadata": {},
     "output_type": "execute_result"
    }
   ],
   "source": [
    "import pandas as pd\n",
    "import re\n",
    "import os\n",
    "import sys\n",
    "\n",
    "def rut_list(nombre_archivo):\n",
    "    try:\n",
    "        #ruta de directorio es: C:/07_audios/\n",
    "        archivo = 'C:/07_audios/Excels/'\n",
    "        # concatenar con la ruta del directorio cualquier archivo excel dentro de la carpeta\n",
    "        archivo = os.path.join(archivo, nombre_archivo+'.xlsx')\n",
    "        print(archivo)\n",
    "        xls = pd.ExcelFile(archivo)\n",
    "        #crear los dataframes\n",
    "        #consultar si el archivo tiene una o mas de una hoja \n",
    "        if len(xls.sheet_names) == 1:\n",
    "            df = pd.read_excel(xls)\n",
    "            #guardar una lista con los rut de la columna rut de cada dataframe\n",
    "            rut = df['RUT'].tolist()\n",
    "            #fecha = df['Fec_Gest'].tolist()\n",
    "            #guardar la fecha de la columna Fec_Gest en formato aaaa-mm-dd en una lista\n",
    "            fecha = [fecha.split()[0] for fecha in df['Fec_Gest'].tolist()]\n",
    "            fecha = [fecha.replace('/', '-') for fecha in fecha]\n",
    "            #voltear la fecha de dd-mm-aaaa a aaaa-mm-dd\n",
    "            fecha = [fecha.split('-')[2]+'-'+fecha.split('-')[1]+'-'+fecha.split('-')[0] for fecha in fecha]\n",
    "\n",
    "            print('ruts', rut)\n",
    "            print('fechas', fecha)\n",
    "            return rut, fecha\n",
    "        elif len(xls.sheet_names) == 4:  \n",
    "            df1 = pd.read_excel(xls, 'Base Siniestros')\n",
    "            df2 = pd.read_excel(xls, 'TNPS Asistencias')\n",
    "            df3 = pd.read_excel(xls, 'TNPS Contact Center')\n",
    "            df4 = pd.read_excel(xls, 'TNPS CANCELACIONES')\n",
    "            #guardar una lista con los rut de la columna rut de cada dataframe\n",
    "            rut1 = df1['RUT'].tolist()\n",
    "            fecha1 = df1['Fec_Gest'].tolist()\n",
    "            rut2 = df2['RUT'].tolist()\n",
    "            fecha2 = df2['FECHA_GESTION'].tolist()\n",
    "            rut3 = df3['RUT_CLIENTE'].tolist()\n",
    "            fecha3 = df3['FECHA_GESTION'].tolist()\n",
    "            rut4 = df4['RUT'].tolist()\n",
    "            fecha4 = df4['FECHA_GESTION'].tolist()\n",
    "            return rut1, fecha1, rut2, fecha2, rut3, fecha3, rut4, fecha4\n",
    "        else:\n",
    "            print(\"El archivo no tiene 1 o 4 hojas\")\n",
    "    except FileNotFoundError:\n",
    "        print(\"No se encontraron archivos en la carpeta\")\n",
    "\n",
    "rut_list('rut')"
   ]
  }
 ],
 "metadata": {
  "kernelspec": {
   "display_name": "Python 3",
   "language": "python",
   "name": "python3"
  },
  "language_info": {
   "codemirror_mode": {
    "name": "ipython",
    "version": 3
   },
   "file_extension": ".py",
   "mimetype": "text/x-python",
   "name": "python",
   "nbconvert_exporter": "python",
   "pygments_lexer": "ipython3",
   "version": "3.11.1"
  }
 },
 "nbformat": 4,
 "nbformat_minor": 2
}
